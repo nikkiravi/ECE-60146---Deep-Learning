{
 "cells": [
  {
   "cell_type": "code",
   "execution_count": 1,
   "id": "competent-melbourne",
   "metadata": {},
   "outputs": [],
   "source": [
    "class Sequence(object):\n",
    "    def __init__(self, array):\n",
    "        self.array = array\n",
    "\n",
    "    def get_number(self, i):\n",
    "        return self.array[i]\n",
    "    \n",
    "    def __iter__(self):\n",
    "        return self\n",
    "    \n",
    "    def __next__(self):\n",
    "        self.idx += 1\n",
    "        if(self.idx < len(self.array)):\n",
    "            return self.array[self.idx]\n",
    "        else:\n",
    "            raise StopIteration\n",
    "            \n",
    "    next = __next__    \n",
    "    \n",
    "    def __gt__(self, other):\n",
    "        if(len(self.array) != len(other.array)):\n",
    "            raise ValueError(\"Two arrays are not equal in length!\")\n",
    "            \n",
    "        result = 0\n",
    "        for x, y in zip(self.array, other.array):\n",
    "            if(x > y):\n",
    "                result += 1\n",
    "        \n",
    "        return result\n",
    "        \n",
    "class Fibonacci(Sequence):\n",
    "    def __init__(self, first_value, second_value):\n",
    "        self.first_value = first_value\n",
    "        self.second_value = second_value\n",
    "        self.idx = -1\n",
    "        \n",
    "    def __call__(self, length):\n",
    "        self.array = [0 for i in range(length)]\n",
    "        self.array[0], self.array[1] = self.first_value, self.second_value\n",
    "        \n",
    "        idx = 2\n",
    "        first, second = self.array[0], self.array[1]\n",
    "        while(idx < length):\n",
    "            next_value = first + second\n",
    "            self.array[idx] = next_value\n",
    "            \n",
    "            first = second\n",
    "            second = next_value\n",
    "            idx += 1\n",
    "            \n",
    "        return self.array\n",
    "    \n",
    "    def __len__(self):\n",
    "        return len(self.array)\n",
    "    \n",
    "class Prime(Sequence):\n",
    "    def __init__(self):\n",
    "        self.idx = -1\n",
    "        \n",
    "    def __call__(self, length):\n",
    "        self.array = []\n",
    "        idx = 0\n",
    "        prime_number = 2\n",
    "        \n",
    "        while(idx < length):\n",
    "            prime = True\n",
    "            for div in range(2, prime_number):\n",
    "                if(not prime_number % div):\n",
    "                    prime = False\n",
    "            \n",
    "            if(prime):\n",
    "                self.array.append(prime_number)\n",
    "                idx += 1\n",
    "                \n",
    "            prime_number += 1\n",
    "                \n",
    "        return self.array\n",
    "    \n",
    "    def __len__(self):\n",
    "        return len(self.array)"
   ]
  },
  {
   "cell_type": "code",
   "execution_count": 2,
   "id": "trained-victim",
   "metadata": {},
   "outputs": [
    {
     "data": {
      "text/plain": [
       "[1, 2, 3, 5, 8, 13, 21, 34]"
      ]
     },
     "execution_count": 2,
     "metadata": {},
     "output_type": "execute_result"
    }
   ],
   "source": [
    "FS = Fibonacci(first_value = 1, second_value = 2)\n",
    "FS(length = 8)"
   ]
  },
  {
   "cell_type": "code",
   "execution_count": 3,
   "id": "4eb7fe89",
   "metadata": {},
   "outputs": [
    {
     "name": "stdout",
     "output_type": "stream",
     "text": [
      "8\n",
      "[1, 2, 3, 5, 8, 13, 21, 34]\n"
     ]
    }
   ],
   "source": [
    "print(len(FS))\n",
    "print([n for n in FS])"
   ]
  },
  {
   "cell_type": "code",
   "execution_count": 4,
   "id": "unlimited-plate",
   "metadata": {},
   "outputs": [
    {
     "data": {
      "text/plain": [
       "[2, 3, 5, 7, 11, 13, 17, 19]"
      ]
     },
     "execution_count": 4,
     "metadata": {},
     "output_type": "execute_result"
    }
   ],
   "source": [
    "PS = Prime()\n",
    "PS(length = 8)"
   ]
  },
  {
   "cell_type": "code",
   "execution_count": 5,
   "id": "21bee4a8",
   "metadata": {},
   "outputs": [
    {
     "name": "stdout",
     "output_type": "stream",
     "text": [
      "8\n",
      "[2, 3, 5, 7, 11, 13, 17, 19]\n"
     ]
    }
   ],
   "source": [
    "print(len(PS))\n",
    "print([n for n in PS])"
   ]
  },
  {
   "cell_type": "code",
   "execution_count": 6,
   "id": "delayed-replication",
   "metadata": {},
   "outputs": [
    {
     "name": "stdout",
     "output_type": "stream",
     "text": [
      "2\n"
     ]
    }
   ],
   "source": [
    "print(FS > PS)"
   ]
  },
  {
   "cell_type": "code",
   "execution_count": 7,
   "id": "least-commerce",
   "metadata": {},
   "outputs": [
    {
     "data": {
      "text/plain": [
       "[2, 3, 5, 7, 11]"
      ]
     },
     "execution_count": 7,
     "metadata": {},
     "output_type": "execute_result"
    }
   ],
   "source": [
    "PS = Prime()\n",
    "PS(length = 5)"
   ]
  },
  {
   "cell_type": "code",
   "execution_count": 8,
   "id": "90586b58",
   "metadata": {},
   "outputs": [
    {
     "name": "stdout",
     "output_type": "stream",
     "text": [
      "5\n",
      "[2, 3, 5, 7, 11]\n"
     ]
    }
   ],
   "source": [
    "print(len(PS))\n",
    "print([n for n in PS])"
   ]
  },
  {
   "cell_type": "code",
   "execution_count": 9,
   "id": "subsequent-interaction",
   "metadata": {},
   "outputs": [
    {
     "ename": "ValueError",
     "evalue": "Two arrays are not equal in length!",
     "output_type": "error",
     "traceback": [
      "\u001b[0;31m---------------------------------------------------------------------------\u001b[0m",
      "\u001b[0;31mValueError\u001b[0m                                Traceback (most recent call last)",
      "Cell \u001b[0;32mIn[9], line 1\u001b[0m\n\u001b[0;32m----> 1\u001b[0m \u001b[39mprint\u001b[39m(FS \u001b[39m>\u001b[39;49m PS)\n",
      "Cell \u001b[0;32mIn[1], line 22\u001b[0m, in \u001b[0;36mSequence.__gt__\u001b[0;34m(self, other)\u001b[0m\n\u001b[1;32m     20\u001b[0m \u001b[39mdef\u001b[39;00m \u001b[39m__gt__\u001b[39m(\u001b[39mself\u001b[39m, other):\n\u001b[1;32m     21\u001b[0m     \u001b[39mif\u001b[39;00m(\u001b[39mlen\u001b[39m(\u001b[39mself\u001b[39m\u001b[39m.\u001b[39marray) \u001b[39m!=\u001b[39m \u001b[39mlen\u001b[39m(other\u001b[39m.\u001b[39marray)):\n\u001b[0;32m---> 22\u001b[0m         \u001b[39mraise\u001b[39;00m \u001b[39mValueError\u001b[39;00m(\u001b[39m\"\u001b[39m\u001b[39mTwo arrays are not equal in length!\u001b[39m\u001b[39m\"\u001b[39m)\n\u001b[1;32m     24\u001b[0m     result \u001b[39m=\u001b[39m \u001b[39m0\u001b[39m\n\u001b[1;32m     25\u001b[0m     \u001b[39mfor\u001b[39;00m x, y \u001b[39min\u001b[39;00m \u001b[39mzip\u001b[39m(\u001b[39mself\u001b[39m\u001b[39m.\u001b[39marray, other\u001b[39m.\u001b[39marray):\n",
      "\u001b[0;31mValueError\u001b[0m: Two arrays are not equal in length!"
     ]
    }
   ],
   "source": [
    "print(FS > PS)"
   ]
  }
 ],
 "metadata": {
  "kernelspec": {
   "display_name": "Python 3",
   "language": "python",
   "name": "python3"
  },
  "language_info": {
   "codemirror_mode": {
    "name": "ipython",
    "version": 3
   },
   "file_extension": ".py",
   "mimetype": "text/x-python",
   "name": "python",
   "nbconvert_exporter": "python",
   "pygments_lexer": "ipython3",
   "version": "3.11.0"
  },
  "vscode": {
   "interpreter": {
    "hash": "1a1af0ee75eeea9e2e1ee996c87e7a2b11a0bebd85af04bb136d915cefc0abce"
   }
  }
 },
 "nbformat": 4,
 "nbformat_minor": 5
}
