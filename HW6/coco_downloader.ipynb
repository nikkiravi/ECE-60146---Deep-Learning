{
 "cells": [
  {
   "cell_type": "code",
   "execution_count": 1,
   "metadata": {},
   "outputs": [
    {
     "name": "stderr",
     "output_type": "stream",
     "text": [
      "/home/dfarache/.conda/envs/cent7/2020.11-py38/eceDL2/lib/python3.8/site-packages/tqdm/auto.py:21: TqdmWarning: IProgress not found. Please update jupyter and ipywidgets. See https://ipywidgets.readthedocs.io/en/stable/user_install.html\n",
      "  from .autonotebook import tqdm as notebook_tqdm\n"
     ]
    }
   ],
   "source": [
    "from pycocotools.coco import COCO\n",
    "from PIL import Image\n",
    "import numpy as np\n",
    "import os\n",
    "import pandas as pd\n",
    "import torchvision.transforms as tvt\n",
    "from torchvision.io import read_image\n",
    "import argparse\n",
    "from tqdm import tqdm\n",
    "import itertools\n",
    "from pprint import pprint"
   ]
  },
  {
   "cell_type": "code",
   "execution_count": 2,
   "metadata": {},
   "outputs": [
    {
     "name": "stdout",
     "output_type": "stream",
     "text": [
      "loading annotations into memory...\n",
      "Done (t=5.22s)\n",
      "creating index...\n",
      "index created!\n"
     ]
    }
   ],
   "source": [
    "# Global Variables\n",
    "train_directory = r\"/scratch/gilbreth/dfarache/ece60146/Nikita/hw06/train2014\"\n",
    "val_directory = r\"/scratch/gilbreth/dfarache/ece60146/Nikita/hw06/val2014\"\n",
    "train_annotations = r\"/scratch/gilbreth/dfarache/ece60146/Nikita/hw06/annotations/instances_train2014.json\"\n",
    "val_annotations = r\"/scratch/gilbreth/dfarache/ece60146/Nikita/hw06/annotations/instances_val2014.json\"\n",
    "\n",
    "\n",
    "categories = [\"bus\", \"cat\", \"pizza\"]\n",
    "catIds = [6, 17, 59]\n",
    "categories = {\"bus\": 6, \"cat\": 17, \"pizza\": 59}\n",
    "inverse_categories = {6: \"bus\", 17: \"cat\", 59: \"pizza\"}\n",
    "\n",
    "\n",
    "columns = [\"id\", \"path_to_image\", \"bus\", \"cat\", \"pizza\"]\n",
    "new_image_size = 256\n",
    "resize_image = tvt.Compose([tvt.Resize((new_image_size,new_image_size))])\n",
    "\n",
    "\n",
    "train = False\n",
    "coco = COCO(train_annotations) if train else COCO(val_annotations)\n",
    "path_to_dir = \"/scratch/gilbreth/dfarache/ece60146/Nikita/hw06/Train\" if train else \"/scratch/gilbreth/dfarache/ece60146/Nikita/hw06/Val\""
   ]
  },
  {
   "cell_type": "code",
   "execution_count": 3,
   "metadata": {},
   "outputs": [
    {
     "name": "stdout",
     "output_type": "stream",
     "text": [
      "Total number of images for all the combinations of the categories: 3940\n"
     ]
    }
   ],
   "source": [
    "def get_all_image_ids():\n",
    "    all_image_ids = []\n",
    "\n",
    "    # Get all combinations of the categories\n",
    "    for idx in range(1, len(categories) + 1):\n",
    "        combination = [list(i) for i in itertools.combinations(categories, idx)]\n",
    "        \n",
    "        for class_labels in combination:\n",
    "            category_ids = coco.getCatIds(catNms=class_labels)\n",
    "            image_ids = coco.getImgIds(catIds=category_ids)\n",
    "\n",
    "            for image_id in image_ids:\n",
    "                if(image_id not in all_image_ids):\n",
    "                    all_image_ids.append(image_id)\n",
    "    \n",
    "    print(f\"Total number of images for all the combinations of the categories: {len(all_image_ids)}\")\n",
    "    return all_image_ids\n",
    "\n",
    "all_image_ids = get_all_image_ids() "
   ]
  },
  {
   "cell_type": "code",
   "execution_count": 4,
   "metadata": {},
   "outputs": [],
   "source": [
    "def resize_bbox(bbox, original_width, original_height):\n",
    "    # Resize bbox\n",
    "    annotation_width, annotation_height = bbox[2], bbox[3]\n",
    "    annotation_left_x, annotation_left_y = bbox[0], bbox[1]\n",
    "\n",
    "    x_scale = new_image_size / original_width\n",
    "    y_scale = new_image_size / original_height\n",
    "\n",
    "    new_bbox_width = x_scale * annotation_width\n",
    "    new_bbox_height = y_scale * annotation_height\n",
    "    new_x1 = x_scale * annotation_left_x\n",
    "    new_y1 = y_scale * annotation_left_y\n",
    "\n",
    "    new_x2 = new_x1 + new_bbox_width\n",
    "    new_y2 = new_y1 + new_bbox_height\n",
    "    \n",
    "    # Add everything to the list to add to the df\n",
    "    ann_bbox = [new_x1, new_y1, new_x2, new_y2]\n",
    "    return ann_bbox"
   ]
  },
  {
   "cell_type": "code",
   "execution_count": 5,
   "metadata": {},
   "outputs": [],
   "source": [
    "def resize_image_bbox(image, path_to_image, Bboxs):\n",
    "    directory = \"/scratch/gilbreth/dfarache/ece60146/Nikita/hw06/train2014\" if train else \"/scratch/gilbreth/dfarache/ece60146/Nikita/hw06/val2014\"\n",
    "    new_bboxs = {\"bus\": [], \"cat\": [], \"pizza\": []}\n",
    "    \n",
    "    try:\n",
    "        image_filename = image[\"file_name\"]\n",
    "        original_width, original_height = image[\"width\"], image[\"height\"]\n",
    "\n",
    "        original_image = resize_image(read_image(os.path.join(directory, image_filename)))\n",
    "        original_image = original_image.repeat(3,1,1) if original_image.size()[0] == 1 else original_image # Check if image has three channels\n",
    "        original_image = tvt.functional.to_pil_image(original_image).convert(\"RGB\") # convert to RGB image\n",
    "\n",
    "        for label, bboxs in Bboxs.items():\n",
    "            for idx in range(len(bboxs)):\n",
    "                if(bboxs[idx] != -1):\n",
    "                    resized_bbox = resize_bbox(bboxs[idx], original_width, original_height)\n",
    "\n",
    "                    if(label == \"bus\"):\n",
    "                        new_bboxs[\"bus\"].append(resized_bbox)\n",
    "                        new_bboxs[\"cat\"].append(-1)\n",
    "                        new_bboxs[\"pizza\"].append(-1)\n",
    "\n",
    "                    elif(label == \"cat\"):\n",
    "                        new_bboxs[\"cat\"].append(resized_bbox)\n",
    "                        new_bboxs[\"bus\"].append(-1)\n",
    "                        new_bboxs[\"pizza\"].append(-1)\n",
    "\n",
    "                    elif(label == \"pizza\"):\n",
    "                        new_bboxs[\"pizza\"].append(resized_bbox)\n",
    "                        new_bboxs[\"cat\"].append(-1)\n",
    "                        new_bboxs[\"bus\"].append(-1)\n",
    "\n",
    "        original_image.save(path_to_image)\n",
    "        return new_bboxs\n",
    "\n",
    "    except Exception as e:\n",
    "        print(f\"Exception: {e}\")\n",
    "        return False"
   ]
  },
  {
   "cell_type": "code",
   "execution_count": 6,
   "metadata": {},
   "outputs": [
    {
     "name": "stderr",
     "output_type": "stream",
     "text": [
      "100%|██████████| 3940/3940 [00:28<00:00, 136.38it/s]"
     ]
    },
    {
     "name": "stdout",
     "output_type": "stream",
     "text": [
      "Total Images downloaded 3491\n"
     ]
    },
    {
     "name": "stderr",
     "output_type": "stream",
     "text": [
      "\n"
     ]
    }
   ],
   "source": [
    "dataset = {}\n",
    "for image_id in tqdm(all_image_ids):\n",
    "    image_info = {\"Id\": None,\n",
    "                  \"Path to Image\": None,\n",
    "                  \"Bbox\": {\"bus\": [], \"cat\": [], \"pizza\": []}}\n",
    "    \n",
    "    image = coco.loadImgs(ids=image_id)[0]\n",
    "    annotation_ids = coco.getAnnIds(imgIds=image[\"id\"], iscrowd=False)\n",
    "    annotations = coco.loadAnns(annotation_ids)\n",
    "    \n",
    "    for annotation in annotations:\n",
    "        if(annotation[\"category_id\"] in catIds):\n",
    "            if(annotation[\"area\"] > (64 * 64)):\n",
    "                path_to_image = os.path.join(path_to_dir, image[\"file_name\"])\n",
    "                image_info[\"Id\"] = image_id\n",
    "                image_info[\"Path to Image\"] = path_to_image\n",
    "\n",
    "                label_name = inverse_categories[annotation['category_id']]\n",
    "                if(label_name == \"bus\"):\n",
    "                    image_info['Bbox'][\"bus\"].append(annotation['bbox'])\n",
    "                    image_info['Bbox'][\"cat\"].append(-1)\n",
    "                    image_info['Bbox'][\"pizza\"].append(-1)\n",
    "                elif(label_name == \"cat\"):\n",
    "                    image_info['Bbox'][\"cat\"].append(annotation['bbox'])\n",
    "                    image_info['Bbox'][\"bus\"].append(-1)\n",
    "                    image_info['Bbox'][\"pizza\"].append(-1)\n",
    "                elif(label_name == \"pizza\"):\n",
    "                    image_info['Bbox'][\"pizza\"].append(annotation['bbox'])\n",
    "                    image_info['Bbox'][\"cat\"].append(-1)\n",
    "                    image_info['Bbox'][\"bus\"].append(-1)\n",
    "                    \n",
    "        if(image_info[\"Path to Image\"] != None):\n",
    "            resized_bboxs = resize_image_bbox(image, image_info[\"Path to Image\"], image_info[\"Bbox\"])\n",
    "            if(resized_bboxs):\n",
    "                image_info[\"Bbox\"] = resized_bboxs\n",
    "                dataset[image[\"file_name\"]] = image_info\n",
    "\n",
    "print(f'Total Images downloaded {len(dataset)}')"
   ]
  },
  {
   "cell_type": "code",
   "execution_count": 7,
   "metadata": {},
   "outputs": [],
   "source": [
    "def create_dataframe(dataset):\n",
    "    df_filename = \"train_data.csv\" if train else \"test_data.csv\"\n",
    "    df = pd.DataFrame(columns=columns)\n",
    "    \n",
    "    ids, paths_to_image, bus_bboxs, cat_bboxs, pizza_bboxs = [], [], [], [], []\n",
    "    for image_filename, image_info in dataset.items():\n",
    "        # image_info = {id:str, path_to_image:str, bboxs:dict}\n",
    "        ids.append(image_info[\"Id\"])\n",
    "        paths_to_image.append(image_info[\"Path to Image\"])\n",
    "        bus_bboxs.append(image_info[\"Bbox\"][\"bus\"])\n",
    "        cat_bboxs.append(image_info[\"Bbox\"][\"cat\"])\n",
    "        pizza_bboxs.append(image_info[\"Bbox\"][\"pizza\"])\n",
    "\n",
    "    assert len(bus_bboxs) == len(cat_bboxs) == len(pizza_bboxs) == len(ids) == len(paths_to_image), f\"Lengths of data not matched: {len(bus_bboxs)}, {len(cat_bboxs)}, {len(pizza_bboxs)}, {len(ids)}, {len(paths_to_image)}\"\n",
    "    df[\"id\"] = ids\n",
    "    df[\"path_to_image\"] = paths_to_image\n",
    "    df[\"bus\"] = list(bus_bboxs)\n",
    "    df[\"cat\"] = list(cat_bboxs)\n",
    "    df[\"pizza\"] = list(pizza_bboxs)\n",
    "    df.to_csv(df_filename)     \n",
    "\n",
    "create_dataframe(dataset)"
   ]
  },
  {
   "cell_type": "code",
   "execution_count": null,
   "metadata": {},
   "outputs": [],
   "source": []
  }
 ],
 "metadata": {
  "kernelspec": {
   "display_name": "eceDL2",
   "language": "python",
   "name": "python3"
  },
  "language_info": {
   "codemirror_mode": {
    "name": "ipython",
    "version": 3
   },
   "file_extension": ".py",
   "mimetype": "text/x-python",
   "name": "python",
   "nbconvert_exporter": "python",
   "pygments_lexer": "ipython3",
   "version": "3.8.16"
  },
  "orig_nbformat": 4
 },
 "nbformat": 4,
 "nbformat_minor": 2
}
